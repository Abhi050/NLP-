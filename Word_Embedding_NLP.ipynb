{
  "nbformat": 4,
  "nbformat_minor": 0,
  "metadata": {
    "colab": {
      "name": "Word Embedding NLP",
      "provenance": [],
      "authorship_tag": "ABX9TyOiorZOShZclQd+u3WpFEsc",
      "include_colab_link": true
    },
    "kernelspec": {
      "name": "python3",
      "display_name": "Python 3"
    },
    "language_info": {
      "name": "python"
    },
    "accelerator": "GPU",
    "gpuClass": "standard"
  },
  "cells": [
    {
      "cell_type": "markdown",
      "metadata": {
        "id": "view-in-github",
        "colab_type": "text"
      },
      "source": [
        "<a href=\"https://colab.research.google.com/github/Abhi050/NLP-/blob/main/Word_Embedding_NLP.ipynb\" target=\"_parent\"><img src=\"https://colab.research.google.com/assets/colab-badge.svg\" alt=\"Open In Colab\"/></a>"
      ]
    },
    {
      "cell_type": "code",
      "execution_count": 1,
      "metadata": {
        "id": "9ypQboho819b"
      },
      "outputs": [],
      "source": [
        ""
      ]
    },
    {
      "cell_type": "code",
      "source": [
        "!pip install tensorflow-gpu"
      ],
      "metadata": {
        "colab": {
          "base_uri": "https://localhost:8080/"
        },
        "id": "FzJoxCdFAP3O",
        "outputId": "bd947ca5-8a8e-4d2a-9f4b-2a8431798ab5"
      },
      "execution_count": 1,
      "outputs": [
        {
          "output_type": "stream",
          "name": "stdout",
          "text": [
            "Looking in indexes: https://pypi.org/simple, https://us-python.pkg.dev/colab-wheels/public/simple/\n",
            "Requirement already satisfied: tensorflow-gpu in /usr/local/lib/python3.7/dist-packages (2.9.1)\n",
            "Requirement already satisfied: libclang>=13.0.0 in /usr/local/lib/python3.7/dist-packages (from tensorflow-gpu) (14.0.1)\n",
            "Requirement already satisfied: opt-einsum>=2.3.2 in /usr/local/lib/python3.7/dist-packages (from tensorflow-gpu) (3.3.0)\n",
            "Requirement already satisfied: termcolor>=1.1.0 in /usr/local/lib/python3.7/dist-packages (from tensorflow-gpu) (1.1.0)\n",
            "Requirement already satisfied: typing-extensions>=3.6.6 in /usr/local/lib/python3.7/dist-packages (from tensorflow-gpu) (4.1.1)\n",
            "Requirement already satisfied: packaging in /usr/local/lib/python3.7/dist-packages (from tensorflow-gpu) (21.3)\n",
            "Requirement already satisfied: grpcio<2.0,>=1.24.3 in /usr/local/lib/python3.7/dist-packages (from tensorflow-gpu) (1.46.3)\n",
            "Requirement already satisfied: flatbuffers<2,>=1.12 in /usr/local/lib/python3.7/dist-packages (from tensorflow-gpu) (1.12)\n",
            "Requirement already satisfied: numpy>=1.20 in /usr/local/lib/python3.7/dist-packages (from tensorflow-gpu) (1.21.6)\n",
            "Requirement already satisfied: absl-py>=1.0.0 in /usr/local/lib/python3.7/dist-packages (from tensorflow-gpu) (1.1.0)\n",
            "Requirement already satisfied: h5py>=2.9.0 in /usr/local/lib/python3.7/dist-packages (from tensorflow-gpu) (3.1.0)\n",
            "Requirement already satisfied: setuptools in /usr/local/lib/python3.7/dist-packages (from tensorflow-gpu) (57.4.0)\n",
            "Requirement already satisfied: gast<=0.4.0,>=0.2.1 in /usr/local/lib/python3.7/dist-packages (from tensorflow-gpu) (0.4.0)\n",
            "Requirement already satisfied: astunparse>=1.6.0 in /usr/local/lib/python3.7/dist-packages (from tensorflow-gpu) (1.6.3)\n",
            "Requirement already satisfied: google-pasta>=0.1.1 in /usr/local/lib/python3.7/dist-packages (from tensorflow-gpu) (0.2.0)\n",
            "Requirement already satisfied: protobuf<3.20,>=3.9.2 in /usr/local/lib/python3.7/dist-packages (from tensorflow-gpu) (3.17.3)\n",
            "Requirement already satisfied: wrapt>=1.11.0 in /usr/local/lib/python3.7/dist-packages (from tensorflow-gpu) (1.14.1)\n",
            "Requirement already satisfied: keras<2.10.0,>=2.9.0rc0 in /usr/local/lib/python3.7/dist-packages (from tensorflow-gpu) (2.9.0)\n",
            "Requirement already satisfied: keras-preprocessing>=1.1.1 in /usr/local/lib/python3.7/dist-packages (from tensorflow-gpu) (1.1.2)\n",
            "Requirement already satisfied: tensorboard<2.10,>=2.9 in /usr/local/lib/python3.7/dist-packages (from tensorflow-gpu) (2.9.1)\n",
            "Requirement already satisfied: tensorflow-estimator<2.10.0,>=2.9.0rc0 in /usr/local/lib/python3.7/dist-packages (from tensorflow-gpu) (2.9.0)\n",
            "Requirement already satisfied: tensorflow-io-gcs-filesystem>=0.23.1 in /usr/local/lib/python3.7/dist-packages (from tensorflow-gpu) (0.26.0)\n",
            "Requirement already satisfied: six>=1.12.0 in /usr/local/lib/python3.7/dist-packages (from tensorflow-gpu) (1.15.0)\n",
            "Requirement already satisfied: wheel<1.0,>=0.23.0 in /usr/local/lib/python3.7/dist-packages (from astunparse>=1.6.0->tensorflow-gpu) (0.37.1)\n",
            "Requirement already satisfied: cached-property in /usr/local/lib/python3.7/dist-packages (from h5py>=2.9.0->tensorflow-gpu) (1.5.2)\n",
            "Requirement already satisfied: requests<3,>=2.21.0 in /usr/local/lib/python3.7/dist-packages (from tensorboard<2.10,>=2.9->tensorflow-gpu) (2.23.0)\n",
            "Requirement already satisfied: markdown>=2.6.8 in /usr/local/lib/python3.7/dist-packages (from tensorboard<2.10,>=2.9->tensorflow-gpu) (3.3.7)\n",
            "Requirement already satisfied: tensorboard-data-server<0.7.0,>=0.6.0 in /usr/local/lib/python3.7/dist-packages (from tensorboard<2.10,>=2.9->tensorflow-gpu) (0.6.1)\n",
            "Requirement already satisfied: google-auth-oauthlib<0.5,>=0.4.1 in /usr/local/lib/python3.7/dist-packages (from tensorboard<2.10,>=2.9->tensorflow-gpu) (0.4.6)\n",
            "Requirement already satisfied: google-auth<3,>=1.6.3 in /usr/local/lib/python3.7/dist-packages (from tensorboard<2.10,>=2.9->tensorflow-gpu) (1.35.0)\n",
            "Requirement already satisfied: tensorboard-plugin-wit>=1.6.0 in /usr/local/lib/python3.7/dist-packages (from tensorboard<2.10,>=2.9->tensorflow-gpu) (1.8.1)\n",
            "Requirement already satisfied: werkzeug>=1.0.1 in /usr/local/lib/python3.7/dist-packages (from tensorboard<2.10,>=2.9->tensorflow-gpu) (1.0.1)\n",
            "Requirement already satisfied: pyasn1-modules>=0.2.1 in /usr/local/lib/python3.7/dist-packages (from google-auth<3,>=1.6.3->tensorboard<2.10,>=2.9->tensorflow-gpu) (0.2.8)\n",
            "Requirement already satisfied: cachetools<5.0,>=2.0.0 in /usr/local/lib/python3.7/dist-packages (from google-auth<3,>=1.6.3->tensorboard<2.10,>=2.9->tensorflow-gpu) (4.2.4)\n",
            "Requirement already satisfied: rsa<5,>=3.1.4 in /usr/local/lib/python3.7/dist-packages (from google-auth<3,>=1.6.3->tensorboard<2.10,>=2.9->tensorflow-gpu) (4.8)\n",
            "Requirement already satisfied: requests-oauthlib>=0.7.0 in /usr/local/lib/python3.7/dist-packages (from google-auth-oauthlib<0.5,>=0.4.1->tensorboard<2.10,>=2.9->tensorflow-gpu) (1.3.1)\n",
            "Requirement already satisfied: importlib-metadata>=4.4 in /usr/local/lib/python3.7/dist-packages (from markdown>=2.6.8->tensorboard<2.10,>=2.9->tensorflow-gpu) (4.11.4)\n",
            "Requirement already satisfied: zipp>=0.5 in /usr/local/lib/python3.7/dist-packages (from importlib-metadata>=4.4->markdown>=2.6.8->tensorboard<2.10,>=2.9->tensorflow-gpu) (3.8.0)\n",
            "Requirement already satisfied: pyasn1<0.5.0,>=0.4.6 in /usr/local/lib/python3.7/dist-packages (from pyasn1-modules>=0.2.1->google-auth<3,>=1.6.3->tensorboard<2.10,>=2.9->tensorflow-gpu) (0.4.8)\n",
            "Requirement already satisfied: idna<3,>=2.5 in /usr/local/lib/python3.7/dist-packages (from requests<3,>=2.21.0->tensorboard<2.10,>=2.9->tensorflow-gpu) (2.10)\n",
            "Requirement already satisfied: urllib3!=1.25.0,!=1.25.1,<1.26,>=1.21.1 in /usr/local/lib/python3.7/dist-packages (from requests<3,>=2.21.0->tensorboard<2.10,>=2.9->tensorflow-gpu) (1.24.3)\n",
            "Requirement already satisfied: certifi>=2017.4.17 in /usr/local/lib/python3.7/dist-packages (from requests<3,>=2.21.0->tensorboard<2.10,>=2.9->tensorflow-gpu) (2022.6.15)\n",
            "Requirement already satisfied: chardet<4,>=3.0.2 in /usr/local/lib/python3.7/dist-packages (from requests<3,>=2.21.0->tensorboard<2.10,>=2.9->tensorflow-gpu) (3.0.4)\n",
            "Requirement already satisfied: oauthlib>=3.0.0 in /usr/local/lib/python3.7/dist-packages (from requests-oauthlib>=0.7.0->google-auth-oauthlib<0.5,>=0.4.1->tensorboard<2.10,>=2.9->tensorflow-gpu) (3.2.0)\n",
            "Requirement already satisfied: pyparsing!=3.0.5,>=2.0.2 in /usr/local/lib/python3.7/dist-packages (from packaging->tensorflow-gpu) (3.0.9)\n"
          ]
        }
      ]
    },
    {
      "cell_type": "code",
      "source": [
        "import tensorflow as tf\n",
        "print(tf.__version__)"
      ],
      "metadata": {
        "colab": {
          "base_uri": "https://localhost:8080/"
        },
        "id": "kK-4YKOfAk2T",
        "outputId": "25f73ce9-f0b0-490e-8ac4-de1cfb825759"
      },
      "execution_count": 4,
      "outputs": [
        {
          "output_type": "stream",
          "name": "stdout",
          "text": [
            "2.9.1\n"
          ]
        }
      ]
    },
    {
      "cell_type": "code",
      "source": [
        "##tensorflow >2.0\n",
        "from tensorflow.keras.preprocessing.text import one_hot"
      ],
      "metadata": {
        "id": "rHCgyHBQAuKm"
      },
      "execution_count": 5,
      "outputs": []
    },
    {
      "cell_type": "code",
      "source": [
        "### sentences\n",
        "sent=[  'the glass of milk',\n",
        "     'the glass of juice',\n",
        "     'the cup of tea',\n",
        "    'I am a good boy',\n",
        "     'I am a good developer',\n",
        "     'understand the meaning of words',\n",
        "     'your videos are good',]"
      ],
      "metadata": {
        "id": "KnPZ5YuT__qj"
      },
      "execution_count": 6,
      "outputs": []
    },
    {
      "cell_type": "code",
      "source": [
        "sent"
      ],
      "metadata": {
        "colab": {
          "base_uri": "https://localhost:8080/"
        },
        "id": "JGxPeZy_ABgG",
        "outputId": "c480ddd8-5441-4bef-9e6e-137257cf7350"
      },
      "execution_count": 7,
      "outputs": [
        {
          "output_type": "execute_result",
          "data": {
            "text/plain": [
              "['the glass of milk',\n",
              " 'the glass of juice',\n",
              " 'the cup of tea',\n",
              " 'I am a good boy',\n",
              " 'I am a good developer',\n",
              " 'understand the meaning of words',\n",
              " 'your videos are good']"
            ]
          },
          "metadata": {},
          "execution_count": 7
        }
      ]
    },
    {
      "cell_type": "code",
      "source": [
        "### Vocabulary size, its important to define vocab size\n",
        "voc_size=10000"
      ],
      "metadata": {
        "id": "uwCaYIrcAENO"
      },
      "execution_count": 9,
      "outputs": []
    },
    {
      "cell_type": "markdown",
      "source": [
        "Now we will start one hot encoding process"
      ],
      "metadata": {
        "id": "Bb0HIzutBHzd"
      }
    },
    {
      "cell_type": "code",
      "source": [
        "onehot_repr=[one_hot(words,voc_size)for words in sent] \n",
        "print(onehot_repr)\n",
        "\n",
        "#in the output below number - 7709(1st no) is one hot representation of word \"the\" in first sentence\n",
        "#in one hot for each word it place 1 in the matrix and the position of that 1 in matrix for that word is the number 7709(mentioned above)\n",
        "#each word of those sentences will hve its own matrix and nyumber will be th eindex of 1 in hat matrix\n"
      ],
      "metadata": {
        "colab": {
          "base_uri": "https://localhost:8080/"
        },
        "id": "RmGlVM-vAGoe",
        "outputId": "1d3392c6-f7cf-4fda-d336-13869e7ff276"
      },
      "execution_count": 11,
      "outputs": [
        {
          "output_type": "stream",
          "name": "stdout",
          "text": [
            "[[7709, 7704, 938, 7847], [7709, 7704, 938, 5937], [7709, 1937, 938, 321], [3437, 1157, 4649, 3873, 6798], [3437, 1157, 4649, 3873, 5592], [1796, 7709, 8015, 938, 298], [2207, 3233, 6123, 3873]]\n"
          ]
        }
      ]
    },
    {
      "cell_type": "code",
      "source": [
        "\"\"\"\n",
        "in neural network all inputs should have equal lenght/size, so inorder to make all the sentences \n",
        "of same size(currently they are not) we will use padding in text\n",
        "\"\"\"\n",
        "\n",
        "from tensorflow.keras.layers import Embedding\n",
        "from tensorflow.keras.preprocessing.sequence import pad_sequences\n",
        "from tensorflow.keras.models import Sequential\n",
        "\n",
        "import numpy as np\n",
        "\n",
        "sent_length=8 #max lenght of the sentence currently that we have in data\n",
        "embedded_docs=pad_sequences(onehot_repr,padding='pre',maxlen=sent_length)\n",
        "print(embedded_docs)\n",
        "\n",
        "#padding = pre means 0 will be added in first\n",
        "#padding = post means 0 will be add in last"
      ],
      "metadata": {
        "colab": {
          "base_uri": "https://localhost:8080/"
        },
        "id": "yrh4rvcRBUJO",
        "outputId": "29a04a8a-3904-419b-d6fe-0800c5ffcab8"
      },
      "execution_count": 13,
      "outputs": [
        {
          "output_type": "stream",
          "name": "stdout",
          "text": [
            "[[   0    0    0    0 7709 7704  938 7847]\n",
            " [   0    0    0    0 7709 7704  938 5937]\n",
            " [   0    0    0    0 7709 1937  938  321]\n",
            " [   0    0    0 3437 1157 4649 3873 6798]\n",
            " [   0    0    0 3437 1157 4649 3873 5592]\n",
            " [   0    0    0 1796 7709 8015  938  298]\n",
            " [   0    0    0    0 2207 3233 6123 3873]]\n"
          ]
        }
      ]
    },
    {
      "cell_type": "code",
      "source": [
        "dim = 10\n",
        "# 10 feature dimensions will be added"
      ],
      "metadata": {
        "id": "yLH7w1kMDIzK"
      },
      "execution_count": 14,
      "outputs": []
    },
    {
      "cell_type": "code",
      "source": [
        "model=Sequential()\n",
        "model.add(Embedding(voc_size,10,input_length=sent_length))\n",
        "model.compile('adam','mse')"
      ],
      "metadata": {
        "id": "fYa_4EdpDhgQ"
      },
      "execution_count": 15,
      "outputs": []
    },
    {
      "cell_type": "code",
      "source": [
        "model.summary()"
      ],
      "metadata": {
        "colab": {
          "base_uri": "https://localhost:8080/"
        },
        "id": "00PElxmFDlL5",
        "outputId": "896a43f9-d096-4628-c959-14c0809b8bd3"
      },
      "execution_count": 16,
      "outputs": [
        {
          "output_type": "stream",
          "name": "stdout",
          "text": [
            "Model: \"sequential\"\n",
            "_________________________________________________________________\n",
            " Layer (type)                Output Shape              Param #   \n",
            "=================================================================\n",
            " embedding (Embedding)       (None, 8, 10)             100000    \n",
            "                                                                 \n",
            "=================================================================\n",
            "Total params: 100,000\n",
            "Trainable params: 100,000\n",
            "Non-trainable params: 0\n",
            "_________________________________________________________________\n"
          ]
        }
      ]
    },
    {
      "cell_type": "code",
      "source": [
        "print(model.predict(embedded_docs))"
      ],
      "metadata": {
        "colab": {
          "base_uri": "https://localhost:8080/"
        },
        "id": "kO3we0-gDltz",
        "outputId": "23b875a8-a96c-4fae-ed60-721848134ac0"
      },
      "execution_count": 17,
      "outputs": [
        {
          "output_type": "stream",
          "name": "stdout",
          "text": [
            "1/1 [==============================] - 0s 62ms/step\n",
            "[[[ 0.03715626 -0.02715619 -0.0137265   0.04332216 -0.00971509\n",
            "   -0.04001409 -0.04952451 -0.02441324 -0.03287707 -0.02309494]\n",
            "  [ 0.03715626 -0.02715619 -0.0137265   0.04332216 -0.00971509\n",
            "   -0.04001409 -0.04952451 -0.02441324 -0.03287707 -0.02309494]\n",
            "  [ 0.03715626 -0.02715619 -0.0137265   0.04332216 -0.00971509\n",
            "   -0.04001409 -0.04952451 -0.02441324 -0.03287707 -0.02309494]\n",
            "  [ 0.03715626 -0.02715619 -0.0137265   0.04332216 -0.00971509\n",
            "   -0.04001409 -0.04952451 -0.02441324 -0.03287707 -0.02309494]\n",
            "  [ 0.0020001   0.0258929  -0.03615554  0.01921645 -0.03406339\n",
            "   -0.01137989  0.04111918 -0.00817855  0.00637326  0.03120146]\n",
            "  [ 0.01379429  0.043233   -0.00775324  0.02840758  0.01892295\n",
            "   -0.04555711 -0.03886463 -0.01624846 -0.03607786  0.0049625 ]\n",
            "  [ 0.02389557  0.00145979 -0.02173133  0.03344036 -0.00587795\n",
            "   -0.00986633  0.04538924  0.04305451 -0.00810928  0.02906373]\n",
            "  [ 0.01896228  0.01520122 -0.04759847 -0.01688372 -0.01198876\n",
            "    0.02235417  0.00143187 -0.04996037  0.01910243  0.04690606]]\n",
            "\n",
            " [[ 0.03715626 -0.02715619 -0.0137265   0.04332216 -0.00971509\n",
            "   -0.04001409 -0.04952451 -0.02441324 -0.03287707 -0.02309494]\n",
            "  [ 0.03715626 -0.02715619 -0.0137265   0.04332216 -0.00971509\n",
            "   -0.04001409 -0.04952451 -0.02441324 -0.03287707 -0.02309494]\n",
            "  [ 0.03715626 -0.02715619 -0.0137265   0.04332216 -0.00971509\n",
            "   -0.04001409 -0.04952451 -0.02441324 -0.03287707 -0.02309494]\n",
            "  [ 0.03715626 -0.02715619 -0.0137265   0.04332216 -0.00971509\n",
            "   -0.04001409 -0.04952451 -0.02441324 -0.03287707 -0.02309494]\n",
            "  [ 0.0020001   0.0258929  -0.03615554  0.01921645 -0.03406339\n",
            "   -0.01137989  0.04111918 -0.00817855  0.00637326  0.03120146]\n",
            "  [ 0.01379429  0.043233   -0.00775324  0.02840758  0.01892295\n",
            "   -0.04555711 -0.03886463 -0.01624846 -0.03607786  0.0049625 ]\n",
            "  [ 0.02389557  0.00145979 -0.02173133  0.03344036 -0.00587795\n",
            "   -0.00986633  0.04538924  0.04305451 -0.00810928  0.02906373]\n",
            "  [-0.01917242 -0.0236768   0.04091201 -0.01887289  0.00238488\n",
            "    0.04386247 -0.03269805 -0.03248005 -0.03900155 -0.01035703]]\n",
            "\n",
            " [[ 0.03715626 -0.02715619 -0.0137265   0.04332216 -0.00971509\n",
            "   -0.04001409 -0.04952451 -0.02441324 -0.03287707 -0.02309494]\n",
            "  [ 0.03715626 -0.02715619 -0.0137265   0.04332216 -0.00971509\n",
            "   -0.04001409 -0.04952451 -0.02441324 -0.03287707 -0.02309494]\n",
            "  [ 0.03715626 -0.02715619 -0.0137265   0.04332216 -0.00971509\n",
            "   -0.04001409 -0.04952451 -0.02441324 -0.03287707 -0.02309494]\n",
            "  [ 0.03715626 -0.02715619 -0.0137265   0.04332216 -0.00971509\n",
            "   -0.04001409 -0.04952451 -0.02441324 -0.03287707 -0.02309494]\n",
            "  [ 0.0020001   0.0258929  -0.03615554  0.01921645 -0.03406339\n",
            "   -0.01137989  0.04111918 -0.00817855  0.00637326  0.03120146]\n",
            "  [ 0.03132539  0.01470765  0.00382144  0.02068431 -0.00445044\n",
            "    0.01816883 -0.00828356  0.00658045  0.03296341 -0.02596042]\n",
            "  [ 0.02389557  0.00145979 -0.02173133  0.03344036 -0.00587795\n",
            "   -0.00986633  0.04538924  0.04305451 -0.00810928  0.02906373]\n",
            "  [ 0.00868605 -0.01895403 -0.02384352 -0.03586296  0.01383803\n",
            "    0.00991331 -0.03731297 -0.00076485 -0.00973933  0.0233095 ]]\n",
            "\n",
            " [[ 0.03715626 -0.02715619 -0.0137265   0.04332216 -0.00971509\n",
            "   -0.04001409 -0.04952451 -0.02441324 -0.03287707 -0.02309494]\n",
            "  [ 0.03715626 -0.02715619 -0.0137265   0.04332216 -0.00971509\n",
            "   -0.04001409 -0.04952451 -0.02441324 -0.03287707 -0.02309494]\n",
            "  [ 0.03715626 -0.02715619 -0.0137265   0.04332216 -0.00971509\n",
            "   -0.04001409 -0.04952451 -0.02441324 -0.03287707 -0.02309494]\n",
            "  [-0.00550788  0.02107059  0.01197132 -0.00299728  0.03016944\n",
            "    0.00861213  0.01029627  0.02965226  0.02393195 -0.04723725]\n",
            "  [-0.02634299 -0.03844688  0.03485984 -0.02358824 -0.01470767\n",
            "   -0.0189552  -0.03313495  0.03192278 -0.01816832 -0.02820574]\n",
            "  [ 0.0272879   0.01737947 -0.01759045  0.00813685  0.00149453\n",
            "    0.04447471  0.01767507 -0.03796917 -0.03739702 -0.03646977]\n",
            "  [ 0.03369385  0.03084517 -0.02023265  0.015068   -0.02620973\n",
            "    0.04100757 -0.01915753  0.03045226  0.02394022 -0.01011211]\n",
            "  [ 0.0075391   0.03449066  0.04701061 -0.00032479 -0.0462276\n",
            "    0.02898129  0.01434133 -0.03335488 -0.01881716  0.00996292]]\n",
            "\n",
            " [[ 0.03715626 -0.02715619 -0.0137265   0.04332216 -0.00971509\n",
            "   -0.04001409 -0.04952451 -0.02441324 -0.03287707 -0.02309494]\n",
            "  [ 0.03715626 -0.02715619 -0.0137265   0.04332216 -0.00971509\n",
            "   -0.04001409 -0.04952451 -0.02441324 -0.03287707 -0.02309494]\n",
            "  [ 0.03715626 -0.02715619 -0.0137265   0.04332216 -0.00971509\n",
            "   -0.04001409 -0.04952451 -0.02441324 -0.03287707 -0.02309494]\n",
            "  [-0.00550788  0.02107059  0.01197132 -0.00299728  0.03016944\n",
            "    0.00861213  0.01029627  0.02965226  0.02393195 -0.04723725]\n",
            "  [-0.02634299 -0.03844688  0.03485984 -0.02358824 -0.01470767\n",
            "   -0.0189552  -0.03313495  0.03192278 -0.01816832 -0.02820574]\n",
            "  [ 0.0272879   0.01737947 -0.01759045  0.00813685  0.00149453\n",
            "    0.04447471  0.01767507 -0.03796917 -0.03739702 -0.03646977]\n",
            "  [ 0.03369385  0.03084517 -0.02023265  0.015068   -0.02620973\n",
            "    0.04100757 -0.01915753  0.03045226  0.02394022 -0.01011211]\n",
            "  [ 0.01974567  0.03543099  0.04756785 -0.04787561  0.01922044\n",
            "   -0.00317468  0.00564247 -0.01925013  0.02870332 -0.04694002]]\n",
            "\n",
            " [[ 0.03715626 -0.02715619 -0.0137265   0.04332216 -0.00971509\n",
            "   -0.04001409 -0.04952451 -0.02441324 -0.03287707 -0.02309494]\n",
            "  [ 0.03715626 -0.02715619 -0.0137265   0.04332216 -0.00971509\n",
            "   -0.04001409 -0.04952451 -0.02441324 -0.03287707 -0.02309494]\n",
            "  [ 0.03715626 -0.02715619 -0.0137265   0.04332216 -0.00971509\n",
            "   -0.04001409 -0.04952451 -0.02441324 -0.03287707 -0.02309494]\n",
            "  [-0.01409737  0.02605845  0.04415769  0.04921916  0.04107815\n",
            "    0.04398767  0.03084805 -0.01769531 -0.00259041  0.01678753]\n",
            "  [ 0.0020001   0.0258929  -0.03615554  0.01921645 -0.03406339\n",
            "   -0.01137989  0.04111918 -0.00817855  0.00637326  0.03120146]\n",
            "  [ 0.02448395  0.01587628  0.00072103  0.02676979  0.0388431\n",
            "    0.0142905  -0.04087117  0.02476552  0.04493985 -0.02110583]\n",
            "  [ 0.02389557  0.00145979 -0.02173133  0.03344036 -0.00587795\n",
            "   -0.00986633  0.04538924  0.04305451 -0.00810928  0.02906373]\n",
            "  [-0.03401532  0.03985134 -0.04122726 -0.00282495 -0.03468125\n",
            "   -0.03656346 -0.01423278  0.01746674 -0.02073053 -0.02385542]]\n",
            "\n",
            " [[ 0.03715626 -0.02715619 -0.0137265   0.04332216 -0.00971509\n",
            "   -0.04001409 -0.04952451 -0.02441324 -0.03287707 -0.02309494]\n",
            "  [ 0.03715626 -0.02715619 -0.0137265   0.04332216 -0.00971509\n",
            "   -0.04001409 -0.04952451 -0.02441324 -0.03287707 -0.02309494]\n",
            "  [ 0.03715626 -0.02715619 -0.0137265   0.04332216 -0.00971509\n",
            "   -0.04001409 -0.04952451 -0.02441324 -0.03287707 -0.02309494]\n",
            "  [ 0.03715626 -0.02715619 -0.0137265   0.04332216 -0.00971509\n",
            "   -0.04001409 -0.04952451 -0.02441324 -0.03287707 -0.02309494]\n",
            "  [-0.02173238 -0.04254026  0.04691661  0.00779666 -0.03216995\n",
            "    0.0140896   0.02063335  0.00159417 -0.00980713  0.04709271]\n",
            "  [-0.02112242 -0.04301595  0.00454494 -0.01261095 -0.01826226\n",
            "    0.00514688 -0.01318259 -0.00848756  0.03185827 -0.01728299]\n",
            "  [ 0.00638676 -0.01081594  0.00172069  0.01992091  0.02993189\n",
            "   -0.01992278 -0.02008131 -0.01428857  0.03974548 -0.03312544]\n",
            "  [ 0.03369385  0.03084517 -0.02023265  0.015068   -0.02620973\n",
            "    0.04100757 -0.01915753  0.03045226  0.02394022 -0.01011211]]]\n"
          ]
        }
      ]
    },
    {
      "cell_type": "code",
      "source": [
        "embedded_docs[0]"
      ],
      "metadata": {
        "id": "qsNMalsaD2Ss"
      },
      "execution_count": null,
      "outputs": []
    },
    {
      "cell_type": "code",
      "source": [
        "print(model.predict(embedded_docs)[0])"
      ],
      "metadata": {
        "id": "mVTAh-67D2yZ"
      },
      "execution_count": null,
      "outputs": []
    }
  ]
}